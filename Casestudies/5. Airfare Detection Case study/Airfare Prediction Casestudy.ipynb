{
 "cells": [
  {
   "cell_type": "code",
   "execution_count": 134,
   "metadata": {},
   "outputs": [],
   "source": [
    "import numpy as np\n",
    "import pandas as pd \n",
    "import seaborn as sns\n",
    "import matplotlib.pyplot as plt\n",
    "from sklearn.preprocessing import LabelEncoder\n",
    "le=LabelEncoder()\n",
    "from sklearn.model_selection import train_test_split\n"
   ]
  },
  {
   "cell_type": "code",
   "execution_count": 135,
   "metadata": {},
   "outputs": [],
   "source": [
    "from sklearn import datasets, linear_model\n",
    "import seaborn as sns\n",
    "import numpy as np\n",
    "import pandas as pd\n",
    "import matplotlib.pyplot as plt\n",
    "import pandas as pd\n",
    "import requests\n"
   ]
  },
  {
   "cell_type": "code",
   "execution_count": 136,
   "metadata": {},
   "outputs": [],
   "source": [
    "#Reading the data\n",
    "target_url = 'http://users.stat.ufl.edu/~winner/data/airq402.dat'\n",
    "response = requests.get(target_url)\n",
    "data_dat = response.text\n",
    "data_list = data_dat.splitlines() \n",
    "data_content = [e.split() for e in data_list]\n",
    "\n"
   ]
  },
  {
   "cell_type": "code",
   "execution_count": 137,
   "metadata": {},
   "outputs": [],
   "source": [
    "#Column names for the data are:\n",
    "cols = ['City1', 'City2', 'Average Fare', 'Distance', 'Average weekly passengers',\n",
    "                   'market leading airline', 'market share', 'Average fare', 'Low price airline',\n",
    "                   'market share', 'price']"
   ]
  },
  {
   "cell_type": "code",
   "execution_count": 138,
   "metadata": {},
   "outputs": [
    {
     "ename": "SyntaxError",
     "evalue": "invalid syntax (<ipython-input-138-a14681e4e6d3>, line 1)",
     "output_type": "error",
     "traceback": [
      "\u001b[1;36m  File \u001b[1;32m\"<ipython-input-138-a14681e4e6d3>\"\u001b[1;36m, line \u001b[1;32m1\u001b[0m\n\u001b[1;33m    4.\tCheck for outliers. Do outlier treatment.\u001b[0m\n\u001b[1;37m      \t    ^\u001b[0m\n\u001b[1;31mSyntaxError\u001b[0m\u001b[1;31m:\u001b[0m invalid syntax\n"
     ]
    }
   ],
   "source": [
    "4.\tCheck for outliers. Do outlier treatment.\n",
    "5.\tDummy treatment for categorical columns.\n",
    "6.\tSplit train and test.\n"
   ]
  },
  {
   "cell_type": "markdown",
   "metadata": {},
   "source": [
    "#### Here we need to change the column names into a more readable dataset.As they contained spaces,they could not be read.Hence they had to be converted to readable names by Python"
   ]
  },
  {
   "cell_type": "code",
   "execution_count": null,
   "metadata": {},
   "outputs": [],
   "source": [
    "airfare=pd.DataFrame(data_content,columns=['City1', 'City2', 'Average_Fare', 'Distance', 'Average_weekly_passengers',\n",
    "                   'market_leading_airline', 'market_share1', 'Average_fare1', 'Low_price_airline',\n",
    "                   'market_share2', 'price2'])\n",
    "airfare.head()\n"
   ]
  },
  {
   "cell_type": "code",
   "execution_count": null,
   "metadata": {},
   "outputs": [],
   "source": [
    "airfare.describe()"
   ]
  },
  {
   "cell_type": "code",
   "execution_count": null,
   "metadata": {},
   "outputs": [],
   "source": [
    "airfare.info()"
   ]
  },
  {
   "cell_type": "code",
   "execution_count": null,
   "metadata": {},
   "outputs": [],
   "source": [
    "print(type(airfare['Average_Fare']))"
   ]
  },
  {
   "cell_type": "code",
   "execution_count": null,
   "metadata": {},
   "outputs": [],
   "source": [
    "airfare.drop(['Average_fare1'],axis=1,inplace=True)"
   ]
  },
  {
   "cell_type": "markdown",
   "metadata": {},
   "source": [
    "## 1.\tConvert data into appropriate format. [Hint: .split() converts data to string. Use astype(float)]"
   ]
  },
  {
   "cell_type": "code",
   "execution_count": null,
   "metadata": {},
   "outputs": [],
   "source": [
    "airfare['Average_Fare']=airfare['Average_Fare'].astype(float)"
   ]
  },
  {
   "cell_type": "code",
   "execution_count": null,
   "metadata": {},
   "outputs": [],
   "source": [
    "airfare.info()"
   ]
  },
  {
   "cell_type": "code",
   "execution_count": null,
   "metadata": {},
   "outputs": [],
   "source": [
    "airfare.head()"
   ]
  },
  {
   "cell_type": "code",
   "execution_count": null,
   "metadata": {},
   "outputs": [],
   "source": [
    "airfare['Distance']=airfare['Distance'].astype(float)\n",
    "airfare['Average_weekly_passengers']=airfare['Average_weekly_passengers'].astype(float)\n",
    "airfare['market_share1']=airfare['market_share1'].astype(float)\n",
    "#airfare['Average_fare1']=airfare['Average_fare1'].astype(float)\n",
    "airfare['market_share2']=airfare['market_share2'].astype(float)\n",
    "airfare['price2']=airfare['price2'].astype(float)"
   ]
  },
  {
   "cell_type": "markdown",
   "metadata": {},
   "source": [
    "airfare.info()"
   ]
  },
  {
   "cell_type": "code",
   "execution_count": null,
   "metadata": {},
   "outputs": [],
   "source": [
    "airfare.info()"
   ]
  },
  {
   "cell_type": "code",
   "execution_count": null,
   "metadata": {},
   "outputs": [],
   "source": [
    "airfare.head()"
   ]
  },
  {
   "cell_type": "markdown",
   "metadata": {},
   "source": [
    "#### Here we converted the following-\n",
    "#### 1) Average_Fare,Distance,Average_weekly_passengers,market_share1,Average_fare1,market_share2,price2 to float as they are predominantly float columns\n",
    "#### 2)We change the names of similar columns to avoid confusion and demarcate which Fare,marketshare is for which type"
   ]
  },
  {
   "cell_type": "markdown",
   "metadata": {},
   "source": [
    "## 2.\tSeparate out the categorical and numerical values. Do EDA separately."
   ]
  },
  {
   "cell_type": "code",
   "execution_count": null,
   "metadata": {},
   "outputs": [],
   "source": [
    "airfare.info()"
   ]
  },
  {
   "cell_type": "code",
   "execution_count": null,
   "metadata": {},
   "outputs": [],
   "source": [
    "airfare_cat=airfare.select_dtypes(include=['object'])\n",
    "airfare_cat.head()"
   ]
  },
  {
   "cell_type": "markdown",
   "metadata": {},
   "source": [
    "#### Categorical Columns"
   ]
  },
  {
   "cell_type": "code",
   "execution_count": null,
   "metadata": {},
   "outputs": [],
   "source": [
    "airfare['City1'].unique()"
   ]
  },
  {
   "cell_type": "code",
   "execution_count": null,
   "metadata": {},
   "outputs": [],
   "source": [
    "airfare['City1'].nunique()"
   ]
  },
  {
   "cell_type": "code",
   "execution_count": null,
   "metadata": {},
   "outputs": [],
   "source": [
    "plt.subplots(figsize=(25,9))\n",
    "sns.countplot(data=airfare,x='City1')\n",
    "plt.title('City1')\n",
    "plt.show()"
   ]
  },
  {
   "cell_type": "code",
   "execution_count": null,
   "metadata": {},
   "outputs": [],
   "source": [
    "print(airfare['City2'].unique())\n",
    "print(airfare['City2'].nunique())"
   ]
  },
  {
   "cell_type": "code",
   "execution_count": null,
   "metadata": {},
   "outputs": [],
   "source": [
    "plt.subplots(figsize=(25,9))\n",
    "sns.countplot(data=airfare,x='City2')\n",
    "plt.title('City2')\n",
    "plt.show()"
   ]
  },
  {
   "cell_type": "code",
   "execution_count": null,
   "metadata": {},
   "outputs": [],
   "source": [
    "\n",
    "print(airfare['market_leading_airline'].unique())\n",
    "print(airfare['market_leading_airline'].nunique())"
   ]
  },
  {
   "cell_type": "code",
   "execution_count": null,
   "metadata": {},
   "outputs": [],
   "source": [
    "plt.subplots(figsize=(25,9))\n",
    "sns.countplot(data=airfare,x='market_leading_airline')\n",
    "plt.title('market_leading_airline')\n",
    "plt.show()"
   ]
  },
  {
   "cell_type": "code",
   "execution_count": null,
   "metadata": {},
   "outputs": [],
   "source": [
    " \n",
    "print(airfare['Low_price_airline'].unique())\n",
    "print(airfare['Low_price_airline'].nunique())"
   ]
  },
  {
   "cell_type": "code",
   "execution_count": null,
   "metadata": {},
   "outputs": [],
   "source": [
    "plt.subplots(figsize=(25,9))\n",
    "sns.countplot(data=airfare,x='Low_price_airline')\n",
    "plt.title('Low_price_airline')\n",
    "plt.show()"
   ]
  },
  {
   "cell_type": "code",
   "execution_count": null,
   "metadata": {},
   "outputs": [],
   "source": [
    "sns.barplot(airfare['market_leading_airline'],y=airfare['Average_Fare'])\n",
    "plt.show()"
   ]
  },
  {
   "cell_type": "markdown",
   "metadata": {},
   "source": [
    "### Numerical columns"
   ]
  },
  {
   "cell_type": "code",
   "execution_count": null,
   "metadata": {},
   "outputs": [],
   "source": [
    "airfare.info()"
   ]
  },
  {
   "cell_type": "code",
   "execution_count": null,
   "metadata": {},
   "outputs": [],
   "source": [
    "airfare['Average_Fare'].describe()"
   ]
  },
  {
   "cell_type": "code",
   "execution_count": null,
   "metadata": {},
   "outputs": [],
   "source": [
    "sns.boxplot(airfare['Average_Fare'])\n",
    "plt.title('Average Fare_Target VAriable')\n",
    "plt.show()"
   ]
  },
  {
   "cell_type": "code",
   "execution_count": null,
   "metadata": {},
   "outputs": [],
   "source": [
    "airfare['Distance'].describe()"
   ]
  },
  {
   "cell_type": "code",
   "execution_count": null,
   "metadata": {},
   "outputs": [],
   "source": [
    "sns.boxplot(airfare['Distance'])\n",
    "plt.title('Distance')\n",
    "plt.show()"
   ]
  },
  {
   "cell_type": "code",
   "execution_count": null,
   "metadata": {},
   "outputs": [],
   "source": [
    "\n",
    "airfare['Average_weekly_passengers'].describe()"
   ]
  },
  {
   "cell_type": "code",
   "execution_count": null,
   "metadata": {},
   "outputs": [],
   "source": [
    "sns.boxplot(airfare['Average_weekly_passengers'])\n",
    "plt.title('Average_weekly_passengers')\n",
    "plt.show()"
   ]
  },
  {
   "cell_type": "code",
   "execution_count": null,
   "metadata": {},
   "outputs": [],
   "source": [
    "print('Market_share1 details=',airfare['market_share1'].describe())\n",
    "print('Market_share2 details=',airfare['market_share2'].describe())\n",
    "#print('Average_Fare1 details=',airfare['Average_fare1'].describe())\n",
    "print('price2 details=',airfare['price2'].describe())"
   ]
  },
  {
   "cell_type": "code",
   "execution_count": null,
   "metadata": {},
   "outputs": [],
   "source": [
    "\n",
    "sns.boxplot(airfare['market_share1'])\n",
    "plt.title('Market_share1')\n",
    "plt.show()"
   ]
  },
  {
   "cell_type": "code",
   "execution_count": null,
   "metadata": {},
   "outputs": [],
   "source": [
    "sns.boxplot(airfare['market_share2'])\n",
    "plt.title('Market_share2')\n",
    "plt.show()"
   ]
  },
  {
   "cell_type": "code",
   "execution_count": null,
   "metadata": {},
   "outputs": [],
   "source": [
    "#sns.boxplot(airfare['Average_fare1'])\n",
    "#plt.title('Average_fare1')\n",
    "#plt.show()"
   ]
  },
  {
   "cell_type": "code",
   "execution_count": null,
   "metadata": {},
   "outputs": [],
   "source": [
    "sns.boxplot(airfare['price2'])\n",
    "plt.title('price2')\n",
    "plt.show()"
   ]
  },
  {
   "cell_type": "code",
   "execution_count": null,
   "metadata": {},
   "outputs": [],
   "source": [
    "sns.heatmap(airfare.corr(),annot=True)\n",
    "plt.show()"
   ]
  },
  {
   "cell_type": "markdown",
   "metadata": {},
   "source": [
    "### Distance -Avg Fare- +ve high corr\n",
    "### Distance -Market share- -ve high Corr\n",
    "### distance and price strong corr() of 0.58\n"
   ]
  },
  {
   "cell_type": "code",
   "execution_count": null,
   "metadata": {},
   "outputs": [],
   "source": [
    "airfare_num=airfare.select_dtypes(include=['float64','int64'])"
   ]
  },
  {
   "cell_type": "code",
   "execution_count": null,
   "metadata": {},
   "outputs": [],
   "source": [
    "## Scatter of Numerical cols wrt Target variable Avg fare\n",
    "for i in range(0,len(airfare_num.columns),6):\n",
    "    sns.pairplot(data=airfare_num,\n",
    "                x_vars=airfare_num.columns[i:i+5],\n",
    "                y_vars=['Average_Fare'])"
   ]
  },
  {
   "cell_type": "markdown",
   "metadata": {},
   "source": [
    "#### price and distance has strong +ve corr with avg price\n",
    "#### markest share also has no ouliers.market share does not affect tagert much\n",
    "#### Weekly passengers don't want high avg fares.They want to travel in low avg fares only\n",
    "#### Avg Weekly passengers have high outliers"
   ]
  },
  {
   "cell_type": "markdown",
   "metadata": {},
   "source": [
    "### Observation- In Numerical-AverageFare,Average Weekly passengers,AverageFare1,price2 have high number of outliers.They have to be treated properly.\n",
    "### Distance is highly correlated with Avg fare\n",
    "###  Categorical-City1,City2 most values are between few columns only.Also Airlines is dominated by WN & AA"
   ]
  },
  {
   "cell_type": "markdown",
   "metadata": {},
   "source": [
    "## 3.\tCheck for missing values."
   ]
  },
  {
   "cell_type": "code",
   "execution_count": null,
   "metadata": {},
   "outputs": [],
   "source": [
    "airfare.info()"
   ]
  },
  {
   "cell_type": "code",
   "execution_count": null,
   "metadata": {},
   "outputs": [],
   "source": [
    "airfare.isnull().sum()"
   ]
  },
  {
   "cell_type": "code",
   "execution_count": null,
   "metadata": {},
   "outputs": [],
   "source": [
    "airfare.isna().sum()"
   ]
  },
  {
   "cell_type": "code",
   "execution_count": null,
   "metadata": {},
   "outputs": [],
   "source": [
    "airfare['Average_Fare'].value_counts()"
   ]
  },
  {
   "cell_type": "markdown",
   "metadata": {},
   "source": [
    "#### Missing value Treatment-No null/Missing values found in dataset"
   ]
  },
  {
   "cell_type": "markdown",
   "metadata": {},
   "source": [
    "## 4.\tCheck for outliers. Do outlier treatment."
   ]
  },
  {
   "cell_type": "code",
   "execution_count": null,
   "metadata": {},
   "outputs": [],
   "source": [
    "airfare.info()"
   ]
  },
  {
   "cell_type": "code",
   "execution_count": null,
   "metadata": {},
   "outputs": [],
   "source": [
    "print(\"Skewness of Average Fare\",airfare['Average_Fare'].skew())\n",
    "print(\"Skewness of Average Fare\",airfare['Average_Fare'].kurt())"
   ]
  },
  {
   "cell_type": "code",
   "execution_count": null,
   "metadata": {},
   "outputs": [],
   "source": [
    "sns.distplot(airfare['Average_Fare'])\n",
    "plt.show()"
   ]
  },
  {
   "cell_type": "code",
   "execution_count": null,
   "metadata": {},
   "outputs": [],
   "source": [
    "## Right skewed data"
   ]
  },
  {
   "cell_type": "code",
   "execution_count": null,
   "metadata": {},
   "outputs": [],
   "source": [
    "Q1=airfare['Average_Fare'].quantile(0.25)"
   ]
  },
  {
   "cell_type": "code",
   "execution_count": null,
   "metadata": {},
   "outputs": [],
   "source": [
    "Q3=airfare['Average_Fare'].quantile(0.75)"
   ]
  },
  {
   "cell_type": "code",
   "execution_count": null,
   "metadata": {},
   "outputs": [],
   "source": [
    "IQR=Q3-Q1"
   ]
  },
  {
   "cell_type": "code",
   "execution_count": null,
   "metadata": {},
   "outputs": [],
   "source": [
    "UL=Q3+1.5*IQR\n",
    "LL=Q1-1.5*IQR"
   ]
  },
  {
   "cell_type": "code",
   "execution_count": null,
   "metadata": {},
   "outputs": [],
   "source": [
    "airfare.info()"
   ]
  },
  {
   "cell_type": "code",
   "execution_count": null,
   "metadata": {},
   "outputs": [],
   "source": [
    "airfare_num.columns"
   ]
  },
  {
   "cell_type": "code",
   "execution_count": null,
   "metadata": {},
   "outputs": [],
   "source": [
    "## Average_Fare"
   ]
  },
  {
   "cell_type": "code",
   "execution_count": null,
   "metadata": {},
   "outputs": [],
   "source": [
    "Q1=airfare['Average_Fare'].quantile(0.25)\n",
    "Q3=airfare['Average_Fare'].quantile(0.75)"
   ]
  },
  {
   "cell_type": "code",
   "execution_count": null,
   "metadata": {},
   "outputs": [],
   "source": [
    "IQR=Q3-Q1\n",
    "IQR"
   ]
  },
  {
   "cell_type": "code",
   "execution_count": null,
   "metadata": {},
   "outputs": [],
   "source": [
    "UL=Q3+1.5*IQR\n",
    "LL=Q1-1.5*IQR"
   ]
  },
  {
   "cell_type": "code",
   "execution_count": null,
   "metadata": {},
   "outputs": [],
   "source": [
    "df=airfare[(airfare['Average_Fare']>LL)&(airfare['Average_Fare']<UL)]"
   ]
  },
  {
   "cell_type": "code",
   "execution_count": null,
   "metadata": {},
   "outputs": [],
   "source": [
    "f,ax=plt.subplots(1,2,figsize=(10,5))\n",
    "sns.boxplot(airfare['Average_Fare'],ax=ax[0])\n",
    "ax[0].set_title('Before Outlier Treatment')\n",
    "sns.boxplot(df['Average_Fare'],ax=ax[1])\n",
    "ax[1].set_title('After Outlier Treatment')\n",
    "plt.show()"
   ]
  },
  {
   "cell_type": "code",
   "execution_count": null,
   "metadata": {},
   "outputs": [],
   "source": [
    "## Average Weekly Passengers"
   ]
  },
  {
   "cell_type": "code",
   "execution_count": null,
   "metadata": {},
   "outputs": [],
   "source": [
    "airfare.columns"
   ]
  },
  {
   "cell_type": "code",
   "execution_count": 140,
   "metadata": {},
   "outputs": [],
   "source": [
    "Q1=airfare['Average_weekly_passengers'].quantile(0.25)\n",
    "Q3=airfare['Average_weekly_passengers'].quantile(0.75)\n",
    "IQR=Q3-Q1\n",
    "UL=Q3+1.5*IQR\n",
    "LL=Q1-1.5*IQR\n",
    "df=airfare[(airfare['Average_weekly_passengers']>LL)&(airfare['Average_weekly_passengers']<UL)]"
   ]
  },
  {
   "cell_type": "code",
   "execution_count": 142,
   "metadata": {},
   "outputs": [],
   "source": [
    "f,ax=plt.subplots(1,2,figsize=(10,5))\n",
    "sns.boxplot(x=airfare['Average_weekly_passengers'],y=airfare['Average_Fare'],ax=ax[0])\n",
    "ax[0].set_title('Before Outlier Treatment')\n",
    "sns.boxplot(x=df['Average_weekly_passengers'],y=df['Average_Fare'],ax=ax[1])\n",
    "ax[1].set_title('After Outlier Treatment')\n",
    "plt.show()"
   ]
  },
  {
   "cell_type": "code",
   "execution_count": null,
   "metadata": {},
   "outputs": [],
   "source": [
    "## Price2"
   ]
  },
  {
   "cell_type": "code",
   "execution_count": null,
   "metadata": {},
   "outputs": [],
   "source": [
    "Q1=airfare['price2'].quantile(0.25)\n",
    "Q3=airfare['price2'].quantile(0.75)\n",
    "IQR=Q3-Q1\n",
    "UL=Q3+1.5*IQR\n",
    "LL=Q1-1.5*IQR\n",
    "df=airfare[(airfare['price2']>LL)&(airfare['price2']<UL)]"
   ]
  },
  {
   "cell_type": "code",
   "execution_count": 139,
   "metadata": {},
   "outputs": [
    {
     "data": {
      "image/png": "[encoded data removed]",
      "text/plain": [
       "<Figure size 720x360 with 2 Axes>"
      ]
     },
     "metadata": {
      "needs_background": "light"
     },
     "output_type": "display_data"
    }
   ],
   "source": [
    "f,ax=plt.subplots(1,2,figsize=(10,5))\n",
    "sns.boxplot(airfare['price2'],ax=ax[0])\n",
    "ax[0].set_title('Before Outlier Treatment')\n",
    "sns.boxplot(df['price2'],ax=ax[1])\n",
    "ax[1].set_title('After Outlier Treatment')\n",
    "plt.show()"
   ]
  },
  {
   "cell_type": "markdown",
   "metadata": {},
   "source": [
    "## 5.\tDummy treatment for categorical columns.\n"
   ]
  },
  {
   "cell_type": "code",
   "execution_count": null,
   "metadata": {},
   "outputs": [],
   "source": [
    "airfare.columns"
   ]
  },
  {
   "cell_type": "code",
   "execution_count": null,
   "metadata": {},
   "outputs": [],
   "source": [
    "airfare.drop(['City1','City2'],axis=1,inplace=True)"
   ]
  },
  {
   "cell_type": "code",
   "execution_count": 144,
   "metadata": {},
   "outputs": [
    {
     "data": {
      "text/html": [
       "<div>\n",
       "<style scoped>\n",
       "    .dataframe tbody tr th:only-of-type {\n",
       "        vertical-align: middle;\n",
       "    }\n",
       "\n",
       "    .dataframe tbody tr th {\n",
       "        vertical-align: top;\n",
       "    }\n",
       "\n",
       "    .dataframe thead th {\n",
       "        text-align: right;\n",
       "    }\n",
       "</style>\n",
       "<table border=\"1\" class=\"dataframe\">\n",
       "  <thead>\n",
       "    <tr style=\"text-align: right;\">\n",
       "      <th></th>\n",
       "      <th>Average_Fare</th>\n",
       "      <th>Distance</th>\n",
       "      <th>Average_weekly_passengers</th>\n",
       "      <th>market_share1</th>\n",
       "      <th>market_share2</th>\n",
       "      <th>price2</th>\n",
       "      <th>MLA_AA</th>\n",
       "      <th>MLA_AS</th>\n",
       "      <th>MLA_B6</th>\n",
       "      <th>MLA_CO</th>\n",
       "      <th>...</th>\n",
       "      <th>LPA_G4</th>\n",
       "      <th>LPA_HP</th>\n",
       "      <th>LPA_NK</th>\n",
       "      <th>LPA_NW</th>\n",
       "      <th>LPA_SY</th>\n",
       "      <th>LPA_TZ</th>\n",
       "      <th>LPA_UA</th>\n",
       "      <th>LPA_US</th>\n",
       "      <th>LPA_WN</th>\n",
       "      <th>LPA_YX</th>\n",
       "    </tr>\n",
       "  </thead>\n",
       "  <tbody>\n",
       "    <tr>\n",
       "      <td>0</td>\n",
       "      <td>114.47</td>\n",
       "      <td>528.0</td>\n",
       "      <td>424.56</td>\n",
       "      <td>70.19</td>\n",
       "      <td>70.19</td>\n",
       "      <td>111.03</td>\n",
       "      <td>0</td>\n",
       "      <td>0</td>\n",
       "      <td>0</td>\n",
       "      <td>0</td>\n",
       "      <td>...</td>\n",
       "      <td>0</td>\n",
       "      <td>0</td>\n",
       "      <td>0</td>\n",
       "      <td>0</td>\n",
       "      <td>0</td>\n",
       "      <td>0</td>\n",
       "      <td>0</td>\n",
       "      <td>0</td>\n",
       "      <td>0</td>\n",
       "      <td>0</td>\n",
       "    </tr>\n",
       "    <tr>\n",
       "      <td>1</td>\n",
       "      <td>122.47</td>\n",
       "      <td>860.0</td>\n",
       "      <td>276.84</td>\n",
       "      <td>75.10</td>\n",
       "      <td>17.23</td>\n",
       "      <td>118.94</td>\n",
       "      <td>0</td>\n",
       "      <td>0</td>\n",
       "      <td>0</td>\n",
       "      <td>0</td>\n",
       "      <td>...</td>\n",
       "      <td>0</td>\n",
       "      <td>0</td>\n",
       "      <td>0</td>\n",
       "      <td>0</td>\n",
       "      <td>0</td>\n",
       "      <td>0</td>\n",
       "      <td>0</td>\n",
       "      <td>0</td>\n",
       "      <td>0</td>\n",
       "      <td>0</td>\n",
       "    </tr>\n",
       "    <tr>\n",
       "      <td>2</td>\n",
       "      <td>214.42</td>\n",
       "      <td>852.0</td>\n",
       "      <td>215.76</td>\n",
       "      <td>78.89</td>\n",
       "      <td>2.77</td>\n",
       "      <td>167.12</td>\n",
       "      <td>0</td>\n",
       "      <td>0</td>\n",
       "      <td>0</td>\n",
       "      <td>0</td>\n",
       "      <td>...</td>\n",
       "      <td>0</td>\n",
       "      <td>0</td>\n",
       "      <td>0</td>\n",
       "      <td>0</td>\n",
       "      <td>0</td>\n",
       "      <td>0</td>\n",
       "      <td>0</td>\n",
       "      <td>0</td>\n",
       "      <td>0</td>\n",
       "      <td>0</td>\n",
       "    </tr>\n",
       "    <tr>\n",
       "      <td>3</td>\n",
       "      <td>69.40</td>\n",
       "      <td>288.0</td>\n",
       "      <td>606.84</td>\n",
       "      <td>96.97</td>\n",
       "      <td>96.97</td>\n",
       "      <td>68.86</td>\n",
       "      <td>0</td>\n",
       "      <td>0</td>\n",
       "      <td>0</td>\n",
       "      <td>0</td>\n",
       "      <td>...</td>\n",
       "      <td>0</td>\n",
       "      <td>0</td>\n",
       "      <td>0</td>\n",
       "      <td>0</td>\n",
       "      <td>0</td>\n",
       "      <td>0</td>\n",
       "      <td>0</td>\n",
       "      <td>0</td>\n",
       "      <td>1</td>\n",
       "      <td>0</td>\n",
       "    </tr>\n",
       "    <tr>\n",
       "      <td>4</td>\n",
       "      <td>158.13</td>\n",
       "      <td>723.0</td>\n",
       "      <td>313.04</td>\n",
       "      <td>39.79</td>\n",
       "      <td>15.34</td>\n",
       "      <td>145.42</td>\n",
       "      <td>0</td>\n",
       "      <td>0</td>\n",
       "      <td>0</td>\n",
       "      <td>0</td>\n",
       "      <td>...</td>\n",
       "      <td>0</td>\n",
       "      <td>0</td>\n",
       "      <td>0</td>\n",
       "      <td>0</td>\n",
       "      <td>0</td>\n",
       "      <td>0</td>\n",
       "      <td>0</td>\n",
       "      <td>0</td>\n",
       "      <td>1</td>\n",
       "      <td>0</td>\n",
       "    </tr>\n",
       "  </tbody>\n",
       "</table>\n",
       "<p>5 rows × 41 columns</p>\n",
       "</div>"
      ],
      "text/plain": [
       "   Average_Fare  Distance  Average_weekly_passengers  market_share1  \\\n",
       "0        114.47     528.0                     424.56          70.19   \n",
       "1        122.47     860.0                     276.84          75.10   \n",
       "2        214.42     852.0                     215.76          78.89   \n",
       "3         69.40     288.0                     606.84          96.97   \n",
       "4        158.13     723.0                     313.04          39.79   \n",
       "\n",
       "   market_share2  price2  MLA_AA  MLA_AS  MLA_B6  MLA_CO  ...  LPA_G4  LPA_HP  \\\n",
       "0          70.19  111.03       0       0       0       0  ...       0       0   \n",
       "1          17.23  118.94       0       0       0       0  ...       0       0   \n",
       "2           2.77  167.12       0       0       0       0  ...       0       0   \n",
       "3          96.97   68.86       0       0       0       0  ...       0       0   \n",
       "4          15.34  145.42       0       0       0       0  ...       0       0   \n",
       "\n",
       "   LPA_NK  LPA_NW  LPA_SY  LPA_TZ  LPA_UA  LPA_US  LPA_WN  LPA_YX  \n",
       "0       0       0       0       0       0       0       0       0  \n",
       "1       0       0       0       0       0       0       0       0  \n",
       "2       0       0       0       0       0       0       0       0  \n",
       "3       0       0       0       0       0       0       1       0  \n",
       "4       0       0       0       0       0       0       1       0  \n",
       "\n",
       "[5 rows x 41 columns]"
      ]
     },
     "execution_count": 144,
     "metadata": {},
     "output_type": "execute_result"
    }
   ],
   "source": [
    "modeldata=pd.get_dummies(data=airfare,columns=['market_leading_airline','Low_price_airline'],prefix=['MLA','LPA'])\n",
    "modeldata.head()"
   ]
  },
  {
   "cell_type": "markdown",
   "metadata": {},
   "source": [
    "#### Here we see that we have dropped City1,City2 columns.It is Because that the columns have around 85-90 unique values.Hence encoding those many columns increases the dataset to large extent.Hence we dropped it."
   ]
  },
  {
   "cell_type": "markdown",
   "metadata": {},
   "source": [
    "## 6.\tSplit train and test."
   ]
  },
  {
   "cell_type": "code",
   "execution_count": 145,
   "metadata": {},
   "outputs": [],
   "source": [
    "x=modeldata.drop(['Average_Fare'],axis=1)\n",
    "y=modeldata['Average_Fare']"
   ]
  },
  {
   "cell_type": "code",
   "execution_count": 146,
   "metadata": {},
   "outputs": [],
   "source": [
    "Y_train,Y_test,X_Train,X_test=train_test_split(y,x,train_size=0.7,random_state=0)"
   ]
  },
  {
   "cell_type": "code",
   "execution_count": 147,
   "metadata": {},
   "outputs": [
    {
     "data": {
      "text/plain": [
       "105    178.55\n",
       "68     210.45\n",
       "479    168.21\n",
       "399    223.28\n",
       "434    132.14\n",
       "        ...  \n",
       "835    283.44\n",
       "192    148.71\n",
       "629    185.14\n",
       "559     81.36\n",
       "684    166.32\n",
       "Name: Average_Fare, Length: 700, dtype: float64"
      ]
     },
     "execution_count": 147,
     "metadata": {},
     "output_type": "execute_result"
    }
   ],
   "source": [
    "Y_train"
   ]
  },
  {
   "cell_type": "code",
   "execution_count": 148,
   "metadata": {},
   "outputs": [
    {
     "data": {
      "text/plain": [
       "993    131.47\n",
       "859    100.92\n",
       "298    171.88\n",
       "553    168.80\n",
       "672    161.93\n",
       "        ...  \n",
       "167    170.24\n",
       "998     73.57\n",
       "984    237.26\n",
       "491    210.02\n",
       "10     212.49\n",
       "Name: Average_Fare, Length: 300, dtype: float64"
      ]
     },
     "execution_count": 148,
     "metadata": {},
     "output_type": "execute_result"
    }
   ],
   "source": [
    "Y_test"
   ]
  },
  {
   "cell_type": "code",
   "execution_count": 149,
   "metadata": {},
   "outputs": [
    {
     "data": {
      "text/html": [
       "<div>\n",
       "<style scoped>\n",
       "    .dataframe tbody tr th:only-of-type {\n",
       "        vertical-align: middle;\n",
       "    }\n",
       "\n",
       "    .dataframe tbody tr th {\n",
       "        vertical-align: top;\n",
       "    }\n",
       "\n",
       "    .dataframe thead th {\n",
       "        text-align: right;\n",
       "    }\n",
       "</style>\n",
       "<table border=\"1\" class=\"dataframe\">\n",
       "  <thead>\n",
       "    <tr style=\"text-align: right;\">\n",
       "      <th></th>\n",
       "      <th>Distance</th>\n",
       "      <th>Average_weekly_passengers</th>\n",
       "      <th>market_share1</th>\n",
       "      <th>market_share2</th>\n",
       "      <th>price2</th>\n",
       "      <th>MLA_AA</th>\n",
       "      <th>MLA_AS</th>\n",
       "      <th>MLA_B6</th>\n",
       "      <th>MLA_CO</th>\n",
       "      <th>MLA_DL</th>\n",
       "      <th>...</th>\n",
       "      <th>LPA_G4</th>\n",
       "      <th>LPA_HP</th>\n",
       "      <th>LPA_NK</th>\n",
       "      <th>LPA_NW</th>\n",
       "      <th>LPA_SY</th>\n",
       "      <th>LPA_TZ</th>\n",
       "      <th>LPA_UA</th>\n",
       "      <th>LPA_US</th>\n",
       "      <th>LPA_WN</th>\n",
       "      <th>LPA_YX</th>\n",
       "    </tr>\n",
       "  </thead>\n",
       "  <tbody>\n",
       "    <tr>\n",
       "      <td>105</td>\n",
       "      <td>1238.0</td>\n",
       "      <td>508.04</td>\n",
       "      <td>55.99</td>\n",
       "      <td>26.25</td>\n",
       "      <td>171.96</td>\n",
       "      <td>1</td>\n",
       "      <td>0</td>\n",
       "      <td>0</td>\n",
       "      <td>0</td>\n",
       "      <td>0</td>\n",
       "      <td>...</td>\n",
       "      <td>0</td>\n",
       "      <td>0</td>\n",
       "      <td>0</td>\n",
       "      <td>0</td>\n",
       "      <td>0</td>\n",
       "      <td>0</td>\n",
       "      <td>0</td>\n",
       "      <td>0</td>\n",
       "      <td>1</td>\n",
       "      <td>0</td>\n",
       "    </tr>\n",
       "    <tr>\n",
       "      <td>68</td>\n",
       "      <td>1900.0</td>\n",
       "      <td>302.28</td>\n",
       "      <td>51.56</td>\n",
       "      <td>11.29</td>\n",
       "      <td>191.57</td>\n",
       "      <td>0</td>\n",
       "      <td>0</td>\n",
       "      <td>0</td>\n",
       "      <td>0</td>\n",
       "      <td>1</td>\n",
       "      <td>...</td>\n",
       "      <td>0</td>\n",
       "      <td>0</td>\n",
       "      <td>0</td>\n",
       "      <td>0</td>\n",
       "      <td>0</td>\n",
       "      <td>0</td>\n",
       "      <td>0</td>\n",
       "      <td>0</td>\n",
       "      <td>0</td>\n",
       "      <td>0</td>\n",
       "    </tr>\n",
       "    <tr>\n",
       "      <td>479</td>\n",
       "      <td>629.0</td>\n",
       "      <td>412.17</td>\n",
       "      <td>67.06</td>\n",
       "      <td>21.17</td>\n",
       "      <td>135.59</td>\n",
       "      <td>0</td>\n",
       "      <td>0</td>\n",
       "      <td>0</td>\n",
       "      <td>0</td>\n",
       "      <td>0</td>\n",
       "      <td>...</td>\n",
       "      <td>0</td>\n",
       "      <td>0</td>\n",
       "      <td>0</td>\n",
       "      <td>0</td>\n",
       "      <td>0</td>\n",
       "      <td>0</td>\n",
       "      <td>0</td>\n",
       "      <td>0</td>\n",
       "      <td>1</td>\n",
       "      <td>0</td>\n",
       "    </tr>\n",
       "    <tr>\n",
       "      <td>399</td>\n",
       "      <td>1121.0</td>\n",
       "      <td>530.21</td>\n",
       "      <td>81.44</td>\n",
       "      <td>3.01</td>\n",
       "      <td>181.34</td>\n",
       "      <td>1</td>\n",
       "      <td>0</td>\n",
       "      <td>0</td>\n",
       "      <td>0</td>\n",
       "      <td>0</td>\n",
       "      <td>...</td>\n",
       "      <td>0</td>\n",
       "      <td>0</td>\n",
       "      <td>0</td>\n",
       "      <td>0</td>\n",
       "      <td>0</td>\n",
       "      <td>0</td>\n",
       "      <td>0</td>\n",
       "      <td>0</td>\n",
       "      <td>0</td>\n",
       "      <td>0</td>\n",
       "    </tr>\n",
       "    <tr>\n",
       "      <td>434</td>\n",
       "      <td>808.0</td>\n",
       "      <td>228.36</td>\n",
       "      <td>43.21</td>\n",
       "      <td>29.41</td>\n",
       "      <td>130.49</td>\n",
       "      <td>0</td>\n",
       "      <td>0</td>\n",
       "      <td>0</td>\n",
       "      <td>0</td>\n",
       "      <td>1</td>\n",
       "      <td>...</td>\n",
       "      <td>0</td>\n",
       "      <td>0</td>\n",
       "      <td>0</td>\n",
       "      <td>0</td>\n",
       "      <td>0</td>\n",
       "      <td>0</td>\n",
       "      <td>0</td>\n",
       "      <td>0</td>\n",
       "      <td>0</td>\n",
       "      <td>0</td>\n",
       "    </tr>\n",
       "    <tr>\n",
       "      <td>...</td>\n",
       "      <td>...</td>\n",
       "      <td>...</td>\n",
       "      <td>...</td>\n",
       "      <td>...</td>\n",
       "      <td>...</td>\n",
       "      <td>...</td>\n",
       "      <td>...</td>\n",
       "      <td>...</td>\n",
       "      <td>...</td>\n",
       "      <td>...</td>\n",
       "      <td>...</td>\n",
       "      <td>...</td>\n",
       "      <td>...</td>\n",
       "      <td>...</td>\n",
       "      <td>...</td>\n",
       "      <td>...</td>\n",
       "      <td>...</td>\n",
       "      <td>...</td>\n",
       "      <td>...</td>\n",
       "      <td>...</td>\n",
       "      <td>...</td>\n",
       "    </tr>\n",
       "    <tr>\n",
       "      <td>835</td>\n",
       "      <td>1587.0</td>\n",
       "      <td>494.56</td>\n",
       "      <td>41.73</td>\n",
       "      <td>14.24</td>\n",
       "      <td>260.25</td>\n",
       "      <td>0</td>\n",
       "      <td>0</td>\n",
       "      <td>0</td>\n",
       "      <td>1</td>\n",
       "      <td>0</td>\n",
       "      <td>...</td>\n",
       "      <td>0</td>\n",
       "      <td>0</td>\n",
       "      <td>0</td>\n",
       "      <td>0</td>\n",
       "      <td>0</td>\n",
       "      <td>0</td>\n",
       "      <td>0</td>\n",
       "      <td>0</td>\n",
       "      <td>0</td>\n",
       "      <td>0</td>\n",
       "    </tr>\n",
       "    <tr>\n",
       "      <td>192</td>\n",
       "      <td>1249.0</td>\n",
       "      <td>723.15</td>\n",
       "      <td>77.93</td>\n",
       "      <td>6.35</td>\n",
       "      <td>135.26</td>\n",
       "      <td>0</td>\n",
       "      <td>0</td>\n",
       "      <td>0</td>\n",
       "      <td>0</td>\n",
       "      <td>1</td>\n",
       "      <td>...</td>\n",
       "      <td>0</td>\n",
       "      <td>0</td>\n",
       "      <td>0</td>\n",
       "      <td>0</td>\n",
       "      <td>0</td>\n",
       "      <td>0</td>\n",
       "      <td>0</td>\n",
       "      <td>1</td>\n",
       "      <td>0</td>\n",
       "      <td>0</td>\n",
       "    </tr>\n",
       "    <tr>\n",
       "      <td>629</td>\n",
       "      <td>2153.0</td>\n",
       "      <td>232.82</td>\n",
       "      <td>46.45</td>\n",
       "      <td>17.60</td>\n",
       "      <td>173.65</td>\n",
       "      <td>0</td>\n",
       "      <td>0</td>\n",
       "      <td>0</td>\n",
       "      <td>0</td>\n",
       "      <td>1</td>\n",
       "      <td>...</td>\n",
       "      <td>0</td>\n",
       "      <td>0</td>\n",
       "      <td>0</td>\n",
       "      <td>0</td>\n",
       "      <td>0</td>\n",
       "      <td>0</td>\n",
       "      <td>0</td>\n",
       "      <td>0</td>\n",
       "      <td>0</td>\n",
       "      <td>0</td>\n",
       "    </tr>\n",
       "    <tr>\n",
       "      <td>559</td>\n",
       "      <td>429.0</td>\n",
       "      <td>203.69</td>\n",
       "      <td>92.90</td>\n",
       "      <td>92.90</td>\n",
       "      <td>77.40</td>\n",
       "      <td>0</td>\n",
       "      <td>0</td>\n",
       "      <td>0</td>\n",
       "      <td>0</td>\n",
       "      <td>0</td>\n",
       "      <td>...</td>\n",
       "      <td>0</td>\n",
       "      <td>0</td>\n",
       "      <td>0</td>\n",
       "      <td>0</td>\n",
       "      <td>0</td>\n",
       "      <td>0</td>\n",
       "      <td>0</td>\n",
       "      <td>0</td>\n",
       "      <td>0</td>\n",
       "      <td>0</td>\n",
       "    </tr>\n",
       "    <tr>\n",
       "      <td>684</td>\n",
       "      <td>1372.0</td>\n",
       "      <td>569.56</td>\n",
       "      <td>47.21</td>\n",
       "      <td>42.02</td>\n",
       "      <td>148.39</td>\n",
       "      <td>1</td>\n",
       "      <td>0</td>\n",
       "      <td>0</td>\n",
       "      <td>0</td>\n",
       "      <td>0</td>\n",
       "      <td>...</td>\n",
       "      <td>0</td>\n",
       "      <td>0</td>\n",
       "      <td>0</td>\n",
       "      <td>0</td>\n",
       "      <td>0</td>\n",
       "      <td>0</td>\n",
       "      <td>0</td>\n",
       "      <td>0</td>\n",
       "      <td>1</td>\n",
       "      <td>0</td>\n",
       "    </tr>\n",
       "  </tbody>\n",
       "</table>\n",
       "<p>700 rows × 40 columns</p>\n",
       "</div>"
      ],
      "text/plain": [
       "     Distance  Average_weekly_passengers  market_share1  market_share2  \\\n",
       "105    1238.0                     508.04          55.99          26.25   \n",
       "68     1900.0                     302.28          51.56          11.29   \n",
       "479     629.0                     412.17          67.06          21.17   \n",
       "399    1121.0                     530.21          81.44           3.01   \n",
       "434     808.0                     228.36          43.21          29.41   \n",
       "..        ...                        ...            ...            ...   \n",
       "835    1587.0                     494.56          41.73          14.24   \n",
       "192    1249.0                     723.15          77.93           6.35   \n",
       "629    2153.0                     232.82          46.45          17.60   \n",
       "559     429.0                     203.69          92.90          92.90   \n",
       "684    1372.0                     569.56          47.21          42.02   \n",
       "\n",
       "     price2  MLA_AA  MLA_AS  MLA_B6  MLA_CO  MLA_DL  ...  LPA_G4  LPA_HP  \\\n",
       "105  171.96       1       0       0       0       0  ...       0       0   \n",
       "68   191.57       0       0       0       0       1  ...       0       0   \n",
       "479  135.59       0       0       0       0       0  ...       0       0   \n",
       "399  181.34       1       0       0       0       0  ...       0       0   \n",
       "434  130.49       0       0       0       0       1  ...       0       0   \n",
       "..      ...     ...     ...     ...     ...     ...  ...     ...     ...   \n",
       "835  260.25       0       0       0       1       0  ...       0       0   \n",
       "192  135.26       0       0       0       0       1  ...       0       0   \n",
       "629  173.65       0       0       0       0       1  ...       0       0   \n",
       "559   77.40       0       0       0       0       0  ...       0       0   \n",
       "684  148.39       1       0       0       0       0  ...       0       0   \n",
       "\n",
       "     LPA_NK  LPA_NW  LPA_SY  LPA_TZ  LPA_UA  LPA_US  LPA_WN  LPA_YX  \n",
       "105       0       0       0       0       0       0       1       0  \n",
       "68        0       0       0       0       0       0       0       0  \n",
       "479       0       0       0       0       0       0       1       0  \n",
       "399       0       0       0       0       0       0       0       0  \n",
       "434       0       0       0       0       0       0       0       0  \n",
       "..      ...     ...     ...     ...     ...     ...     ...     ...  \n",
       "835       0       0       0       0       0       0       0       0  \n",
       "192       0       0       0       0       0       1       0       0  \n",
       "629       0       0       0       0       0       0       0       0  \n",
       "559       0       0       0       0       0       0       0       0  \n",
       "684       0       0       0       0       0       0       1       0  \n",
       "\n",
       "[700 rows x 40 columns]"
      ]
     },
     "execution_count": 149,
     "metadata": {},
     "output_type": "execute_result"
    }
   ],
   "source": [
    "X_Train"
   ]
  },
  {
   "cell_type": "code",
   "execution_count": 150,
   "metadata": {},
   "outputs": [
    {
     "data": {
      "text/html": [
       "<div>\n",
       "<style scoped>\n",
       "    .dataframe tbody tr th:only-of-type {\n",
       "        vertical-align: middle;\n",
       "    }\n",
       "\n",
       "    .dataframe tbody tr th {\n",
       "        vertical-align: top;\n",
       "    }\n",
       "\n",
       "    .dataframe thead th {\n",
       "        text-align: right;\n",
       "    }\n",
       "</style>\n",
       "<table border=\"1\" class=\"dataframe\">\n",
       "  <thead>\n",
       "    <tr style=\"text-align: right;\">\n",
       "      <th></th>\n",
       "      <th>Distance</th>\n",
       "      <th>Average_weekly_passengers</th>\n",
       "      <th>market_share1</th>\n",
       "      <th>market_share2</th>\n",
       "      <th>price2</th>\n",
       "      <th>MLA_AA</th>\n",
       "      <th>MLA_AS</th>\n",
       "      <th>MLA_B6</th>\n",
       "      <th>MLA_CO</th>\n",
       "      <th>MLA_DL</th>\n",
       "      <th>...</th>\n",
       "      <th>LPA_G4</th>\n",
       "      <th>LPA_HP</th>\n",
       "      <th>LPA_NK</th>\n",
       "      <th>LPA_NW</th>\n",
       "      <th>LPA_SY</th>\n",
       "      <th>LPA_TZ</th>\n",
       "      <th>LPA_UA</th>\n",
       "      <th>LPA_US</th>\n",
       "      <th>LPA_WN</th>\n",
       "      <th>LPA_YX</th>\n",
       "    </tr>\n",
       "  </thead>\n",
       "  <tbody>\n",
       "    <tr>\n",
       "      <td>993</td>\n",
       "      <td>1216.0</td>\n",
       "      <td>359.23</td>\n",
       "      <td>73.25</td>\n",
       "      <td>73.25</td>\n",
       "      <td>126.38</td>\n",
       "      <td>0</td>\n",
       "      <td>1</td>\n",
       "      <td>0</td>\n",
       "      <td>0</td>\n",
       "      <td>0</td>\n",
       "      <td>...</td>\n",
       "      <td>0</td>\n",
       "      <td>0</td>\n",
       "      <td>0</td>\n",
       "      <td>0</td>\n",
       "      <td>0</td>\n",
       "      <td>0</td>\n",
       "      <td>0</td>\n",
       "      <td>0</td>\n",
       "      <td>0</td>\n",
       "      <td>0</td>\n",
       "    </tr>\n",
       "    <tr>\n",
       "      <td>859</td>\n",
       "      <td>671.0</td>\n",
       "      <td>1762.06</td>\n",
       "      <td>56.25</td>\n",
       "      <td>56.25</td>\n",
       "      <td>98.95</td>\n",
       "      <td>0</td>\n",
       "      <td>1</td>\n",
       "      <td>0</td>\n",
       "      <td>0</td>\n",
       "      <td>0</td>\n",
       "      <td>...</td>\n",
       "      <td>0</td>\n",
       "      <td>0</td>\n",
       "      <td>0</td>\n",
       "      <td>0</td>\n",
       "      <td>0</td>\n",
       "      <td>0</td>\n",
       "      <td>0</td>\n",
       "      <td>0</td>\n",
       "      <td>0</td>\n",
       "      <td>0</td>\n",
       "    </tr>\n",
       "    <tr>\n",
       "      <td>298</td>\n",
       "      <td>412.0</td>\n",
       "      <td>766.19</td>\n",
       "      <td>49.96</td>\n",
       "      <td>49.96</td>\n",
       "      <td>157.19</td>\n",
       "      <td>0</td>\n",
       "      <td>0</td>\n",
       "      <td>0</td>\n",
       "      <td>0</td>\n",
       "      <td>0</td>\n",
       "      <td>...</td>\n",
       "      <td>0</td>\n",
       "      <td>0</td>\n",
       "      <td>0</td>\n",
       "      <td>0</td>\n",
       "      <td>0</td>\n",
       "      <td>0</td>\n",
       "      <td>0</td>\n",
       "      <td>1</td>\n",
       "      <td>0</td>\n",
       "      <td>0</td>\n",
       "    </tr>\n",
       "    <tr>\n",
       "      <td>553</td>\n",
       "      <td>626.0</td>\n",
       "      <td>234.23</td>\n",
       "      <td>28.58</td>\n",
       "      <td>14.70</td>\n",
       "      <td>134.71</td>\n",
       "      <td>0</td>\n",
       "      <td>0</td>\n",
       "      <td>0</td>\n",
       "      <td>1</td>\n",
       "      <td>0</td>\n",
       "      <td>...</td>\n",
       "      <td>0</td>\n",
       "      <td>0</td>\n",
       "      <td>0</td>\n",
       "      <td>0</td>\n",
       "      <td>0</td>\n",
       "      <td>0</td>\n",
       "      <td>1</td>\n",
       "      <td>0</td>\n",
       "      <td>0</td>\n",
       "      <td>0</td>\n",
       "    </tr>\n",
       "    <tr>\n",
       "      <td>672</td>\n",
       "      <td>987.0</td>\n",
       "      <td>217.60</td>\n",
       "      <td>43.55</td>\n",
       "      <td>19.13</td>\n",
       "      <td>154.65</td>\n",
       "      <td>0</td>\n",
       "      <td>0</td>\n",
       "      <td>0</td>\n",
       "      <td>0</td>\n",
       "      <td>0</td>\n",
       "      <td>...</td>\n",
       "      <td>0</td>\n",
       "      <td>0</td>\n",
       "      <td>0</td>\n",
       "      <td>0</td>\n",
       "      <td>0</td>\n",
       "      <td>0</td>\n",
       "      <td>0</td>\n",
       "      <td>0</td>\n",
       "      <td>0</td>\n",
       "      <td>0</td>\n",
       "    </tr>\n",
       "    <tr>\n",
       "      <td>...</td>\n",
       "      <td>...</td>\n",
       "      <td>...</td>\n",
       "      <td>...</td>\n",
       "      <td>...</td>\n",
       "      <td>...</td>\n",
       "      <td>...</td>\n",
       "      <td>...</td>\n",
       "      <td>...</td>\n",
       "      <td>...</td>\n",
       "      <td>...</td>\n",
       "      <td>...</td>\n",
       "      <td>...</td>\n",
       "      <td>...</td>\n",
       "      <td>...</td>\n",
       "      <td>...</td>\n",
       "      <td>...</td>\n",
       "      <td>...</td>\n",
       "      <td>...</td>\n",
       "      <td>...</td>\n",
       "      <td>...</td>\n",
       "      <td>...</td>\n",
       "    </tr>\n",
       "    <tr>\n",
       "      <td>167</td>\n",
       "      <td>597.0</td>\n",
       "      <td>249.02</td>\n",
       "      <td>48.31</td>\n",
       "      <td>48.31</td>\n",
       "      <td>157.72</td>\n",
       "      <td>1</td>\n",
       "      <td>0</td>\n",
       "      <td>0</td>\n",
       "      <td>0</td>\n",
       "      <td>0</td>\n",
       "      <td>...</td>\n",
       "      <td>0</td>\n",
       "      <td>0</td>\n",
       "      <td>0</td>\n",
       "      <td>0</td>\n",
       "      <td>0</td>\n",
       "      <td>0</td>\n",
       "      <td>0</td>\n",
       "      <td>0</td>\n",
       "      <td>0</td>\n",
       "      <td>0</td>\n",
       "    </tr>\n",
       "    <tr>\n",
       "      <td>998</td>\n",
       "      <td>174.0</td>\n",
       "      <td>214.45</td>\n",
       "      <td>99.74</td>\n",
       "      <td>99.74</td>\n",
       "      <td>73.44</td>\n",
       "      <td>0</td>\n",
       "      <td>0</td>\n",
       "      <td>0</td>\n",
       "      <td>0</td>\n",
       "      <td>0</td>\n",
       "      <td>...</td>\n",
       "      <td>0</td>\n",
       "      <td>0</td>\n",
       "      <td>0</td>\n",
       "      <td>0</td>\n",
       "      <td>0</td>\n",
       "      <td>0</td>\n",
       "      <td>0</td>\n",
       "      <td>0</td>\n",
       "      <td>1</td>\n",
       "      <td>0</td>\n",
       "    </tr>\n",
       "    <tr>\n",
       "      <td>984</td>\n",
       "      <td>2392.0</td>\n",
       "      <td>193.26</td>\n",
       "      <td>21.54</td>\n",
       "      <td>16.02</td>\n",
       "      <td>200.96</td>\n",
       "      <td>0</td>\n",
       "      <td>0</td>\n",
       "      <td>0</td>\n",
       "      <td>0</td>\n",
       "      <td>1</td>\n",
       "      <td>...</td>\n",
       "      <td>0</td>\n",
       "      <td>0</td>\n",
       "      <td>0</td>\n",
       "      <td>0</td>\n",
       "      <td>0</td>\n",
       "      <td>0</td>\n",
       "      <td>0</td>\n",
       "      <td>0</td>\n",
       "      <td>0</td>\n",
       "      <td>0</td>\n",
       "    </tr>\n",
       "    <tr>\n",
       "      <td>491</td>\n",
       "      <td>453.0</td>\n",
       "      <td>591.95</td>\n",
       "      <td>57.05</td>\n",
       "      <td>39.47</td>\n",
       "      <td>203.09</td>\n",
       "      <td>0</td>\n",
       "      <td>0</td>\n",
       "      <td>0</td>\n",
       "      <td>0</td>\n",
       "      <td>0</td>\n",
       "      <td>...</td>\n",
       "      <td>0</td>\n",
       "      <td>0</td>\n",
       "      <td>0</td>\n",
       "      <td>0</td>\n",
       "      <td>0</td>\n",
       "      <td>0</td>\n",
       "      <td>0</td>\n",
       "      <td>1</td>\n",
       "      <td>0</td>\n",
       "      <td>0</td>\n",
       "    </tr>\n",
       "    <tr>\n",
       "      <td>10</td>\n",
       "      <td>1269.0</td>\n",
       "      <td>198.80</td>\n",
       "      <td>68.39</td>\n",
       "      <td>11.91</td>\n",
       "      <td>200.93</td>\n",
       "      <td>0</td>\n",
       "      <td>0</td>\n",
       "      <td>0</td>\n",
       "      <td>0</td>\n",
       "      <td>1</td>\n",
       "      <td>...</td>\n",
       "      <td>0</td>\n",
       "      <td>0</td>\n",
       "      <td>0</td>\n",
       "      <td>0</td>\n",
       "      <td>0</td>\n",
       "      <td>0</td>\n",
       "      <td>0</td>\n",
       "      <td>0</td>\n",
       "      <td>0</td>\n",
       "      <td>0</td>\n",
       "    </tr>\n",
       "  </tbody>\n",
       "</table>\n",
       "<p>300 rows × 40 columns</p>\n",
       "</div>"
      ],
      "text/plain": [
       "     Distance  Average_weekly_passengers  market_share1  market_share2  \\\n",
       "993    1216.0                     359.23          73.25          73.25   \n",
       "859     671.0                    1762.06          56.25          56.25   \n",
       "298     412.0                     766.19          49.96          49.96   \n",
       "553     626.0                     234.23          28.58          14.70   \n",
       "672     987.0                     217.60          43.55          19.13   \n",
       "..        ...                        ...            ...            ...   \n",
       "167     597.0                     249.02          48.31          48.31   \n",
       "998     174.0                     214.45          99.74          99.74   \n",
       "984    2392.0                     193.26          21.54          16.02   \n",
       "491     453.0                     591.95          57.05          39.47   \n",
       "10     1269.0                     198.80          68.39          11.91   \n",
       "\n",
       "     price2  MLA_AA  MLA_AS  MLA_B6  MLA_CO  MLA_DL  ...  LPA_G4  LPA_HP  \\\n",
       "993  126.38       0       1       0       0       0  ...       0       0   \n",
       "859   98.95       0       1       0       0       0  ...       0       0   \n",
       "298  157.19       0       0       0       0       0  ...       0       0   \n",
       "553  134.71       0       0       0       1       0  ...       0       0   \n",
       "672  154.65       0       0       0       0       0  ...       0       0   \n",
       "..      ...     ...     ...     ...     ...     ...  ...     ...     ...   \n",
       "167  157.72       1       0       0       0       0  ...       0       0   \n",
       "998   73.44       0       0       0       0       0  ...       0       0   \n",
       "984  200.96       0       0       0       0       1  ...       0       0   \n",
       "491  203.09       0       0       0       0       0  ...       0       0   \n",
       "10   200.93       0       0       0       0       1  ...       0       0   \n",
       "\n",
       "     LPA_NK  LPA_NW  LPA_SY  LPA_TZ  LPA_UA  LPA_US  LPA_WN  LPA_YX  \n",
       "993       0       0       0       0       0       0       0       0  \n",
       "859       0       0       0       0       0       0       0       0  \n",
       "298       0       0       0       0       0       1       0       0  \n",
       "553       0       0       0       0       1       0       0       0  \n",
       "672       0       0       0       0       0       0       0       0  \n",
       "..      ...     ...     ...     ...     ...     ...     ...     ...  \n",
       "167       0       0       0       0       0       0       0       0  \n",
       "998       0       0       0       0       0       0       1       0  \n",
       "984       0       0       0       0       0       0       0       0  \n",
       "491       0       0       0       0       0       1       0       0  \n",
       "10        0       0       0       0       0       0       0       0  \n",
       "\n",
       "[300 rows x 40 columns]"
      ]
     },
     "execution_count": 150,
     "metadata": {},
     "output_type": "execute_result"
    }
   ],
   "source": [
    "X_test"
   ]
  },
  {
   "cell_type": "markdown",
   "metadata": {},
   "source": [
    "#### Model Splitting completed.Hence now we have successfully cleaned the data & put the data for use in the ML model"
   ]
  },
  {
   "cell_type": "code",
   "execution_count": null,
   "metadata": {},
   "outputs": [],
   "source": [
    "cols=airfare_num.columns"
   ]
  },
  {
   "cell_type": "code",
   "execution_count": null,
   "metadata": {},
   "outputs": [],
   "source": [
    "cols"
   ]
  },
  {
   "cell_type": "code",
   "execution_count": null,
   "metadata": {},
   "outputs": [],
   "source": [
    "for i in cols:\n",
    "    print(\"Skewness of \",i,\"=\",airfare[i].skew())\n",
    "    print(\"Kurtosis of \",i,\"=\",airfare[i].kurt())\n",
    "    Q1=airfare[i].quantile(0.25)\n",
    "    Q3=airfare[i].quantile(0.75)\n",
    "    IQR=Q3-Q1\n",
    "    UL=Q3+1.5*IQR\n",
    "    LL=Q1-1.5*IQR\n",
    "    df=airfare[(airfare[i]>LL)&(airfare[i]<UL)]\n",
    "    print(\"Skewness of \",i,\"=\",df[i].skew())\n",
    "    print(\"Kurtosis of \",i,\"=\",df[i].kurt())\n",
    "    sns.boxplot(df[i])\n",
    "    plt.show()"
   ]
  },
  {
   "cell_type": "code",
   "execution_count": null,
   "metadata": {},
   "outputs": [],
   "source": []
  }
 ],
 "metadata": {
  "kernelspec": {
   "display_name": "Python 3",
   "language": "python",
   "name": "python3"
  },
  "language_info": {
   "codemirror_mode": {
    "name": "ipython",
    "version": 3
   },
   "file_extension": ".py",
   "mimetype": "text/x-python",
   "name": "python",
   "nbconvert_exporter": "python",
   "pygments_lexer": "ipython3",
   "version": "3.7.4"
  }
 },
 "nbformat": 4,
 "nbformat_minor": 4
}
