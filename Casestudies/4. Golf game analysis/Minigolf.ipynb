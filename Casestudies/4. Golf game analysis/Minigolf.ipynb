{
 "cells": [
  {
   "cell_type": "markdown",
   "metadata": {},
   "source": [
    "# Analysis of minigolf game played between two friends"
   ]
  },
  {
   "cell_type": "code",
   "execution_count": 3,
   "metadata": {},
   "outputs": [],
   "source": [
    "import pandas as pd\n",
    "import numpy as np\n",
    "import seaborn as sns\n",
    "import matplotlib.pyplot as plt"
   ]
  },
  {
   "cell_type": "markdown",
   "metadata": {},
   "source": [
    "## Loading data"
   ]
  },
  {
   "cell_type": "code",
   "execution_count": 4,
   "metadata": {},
   "outputs": [
    {
     "data": {
      "text/html": [
       "<div>\n",
       "<style scoped>\n",
       "    .dataframe tbody tr th:only-of-type {\n",
       "        vertical-align: middle;\n",
       "    }\n",
       "\n",
       "    .dataframe tbody tr th {\n",
       "        vertical-align: top;\n",
       "    }\n",
       "\n",
       "    .dataframe thead th {\n",
       "        text-align: right;\n",
       "    }\n",
       "</style>\n",
       "<table border=\"1\" class=\"dataframe\">\n",
       "  <thead>\n",
       "    <tr style=\"text-align: right;\">\n",
       "      <th></th>\n",
       "      <th>Hole 1</th>\n",
       "      <th>Hole 2</th>\n",
       "      <th>Hole 3</th>\n",
       "      <th>Hole 4</th>\n",
       "      <th>Hole 5</th>\n",
       "      <th>Hole 6</th>\n",
       "      <th>Hole 7</th>\n",
       "      <th>Hole 8</th>\n",
       "      <th>Hole 9</th>\n",
       "      <th>Hole 10</th>\n",
       "      <th>Hole 11</th>\n",
       "      <th>Hole 12</th>\n",
       "      <th>Hole 13</th>\n",
       "      <th>Hole 14</th>\n",
       "      <th>Hole 15</th>\n",
       "      <th>Hole 16</th>\n",
       "    </tr>\n",
       "    <tr>\n",
       "      <th>Player</th>\n",
       "      <th></th>\n",
       "      <th></th>\n",
       "      <th></th>\n",
       "      <th></th>\n",
       "      <th></th>\n",
       "      <th></th>\n",
       "      <th></th>\n",
       "      <th></th>\n",
       "      <th></th>\n",
       "      <th></th>\n",
       "      <th></th>\n",
       "      <th></th>\n",
       "      <th></th>\n",
       "      <th></th>\n",
       "      <th></th>\n",
       "      <th></th>\n",
       "    </tr>\n",
       "  </thead>\n",
       "  <tbody>\n",
       "    <tr>\n",
       "      <th>Sergio</th>\n",
       "      <td>11</td>\n",
       "      <td>5</td>\n",
       "      <td>4</td>\n",
       "      <td>10</td>\n",
       "      <td>3</td>\n",
       "      <td>3</td>\n",
       "      <td>3</td>\n",
       "      <td>9</td>\n",
       "      <td>2</td>\n",
       "      <td>1</td>\n",
       "      <td>6</td>\n",
       "      <td>14</td>\n",
       "      <td>8</td>\n",
       "      <td>2</td>\n",
       "      <td>2</td>\n",
       "      <td>11</td>\n",
       "    </tr>\n",
       "    <tr>\n",
       "      <th>Lucía</th>\n",
       "      <td>13</td>\n",
       "      <td>2</td>\n",
       "      <td>4</td>\n",
       "      <td>5</td>\n",
       "      <td>4</td>\n",
       "      <td>6</td>\n",
       "      <td>3</td>\n",
       "      <td>5</td>\n",
       "      <td>3</td>\n",
       "      <td>5</td>\n",
       "      <td>12</td>\n",
       "      <td>12</td>\n",
       "      <td>3</td>\n",
       "      <td>3</td>\n",
       "      <td>3</td>\n",
       "      <td>2</td>\n",
       "    </tr>\n",
       "  </tbody>\n",
       "</table>\n",
       "</div>"
      ],
      "text/plain": [
       "        Hole 1  Hole 2  Hole 3  Hole 4  Hole 5  Hole 6  Hole 7  Hole 8  \\\n",
       "Player                                                                   \n",
       "Sergio      11       5       4      10       3       3       3       9   \n",
       "Lucía       13       2       4       5       4       6       3       5   \n",
       "\n",
       "        Hole 9  Hole 10  Hole 11  Hole 12  Hole 13  Hole 14  Hole 15  Hole 16  \n",
       "Player                                                                         \n",
       "Sergio       2        1        6       14        8        2        2       11  \n",
       "Lucía        3        5       12       12        3        3        3        2  "
      ]
     },
     "execution_count": 4,
     "metadata": {},
     "output_type": "execute_result"
    }
   ],
   "source": [
    "col_names = ['Player'] + [f'Hole {i}' for i in range(1, 17)]\n",
    "df = pd.read_csv('minigolf.csv', header=None, index_col=0, names=col_names)\n",
    "df"
   ]
  },
  {
   "cell_type": "markdown",
   "metadata": {},
   "source": [
    "## Lucía wins by 9 strokes!"
   ]
  },
  {
   "cell_type": "code",
   "execution_count": 5,
   "metadata": {},
   "outputs": [
    {
     "data": {
      "text/html": [
       "<div>\n",
       "<style scoped>\n",
       "    .dataframe tbody tr th:only-of-type {\n",
       "        vertical-align: middle;\n",
       "    }\n",
       "\n",
       "    .dataframe tbody tr th {\n",
       "        vertical-align: top;\n",
       "    }\n",
       "\n",
       "    .dataframe thead th {\n",
       "        text-align: right;\n",
       "    }\n",
       "</style>\n",
       "<table border=\"1\" class=\"dataframe\">\n",
       "  <thead>\n",
       "    <tr style=\"text-align: right;\">\n",
       "      <th></th>\n",
       "      <th>Hole 1</th>\n",
       "      <th>Hole 2</th>\n",
       "      <th>Hole 3</th>\n",
       "      <th>Hole 4</th>\n",
       "      <th>Hole 5</th>\n",
       "      <th>Hole 6</th>\n",
       "      <th>Hole 7</th>\n",
       "      <th>Hole 8</th>\n",
       "      <th>Hole 9</th>\n",
       "      <th>Hole 10</th>\n",
       "      <th>Hole 11</th>\n",
       "      <th>Hole 12</th>\n",
       "      <th>Hole 13</th>\n",
       "      <th>Hole 14</th>\n",
       "      <th>Hole 15</th>\n",
       "      <th>Hole 16</th>\n",
       "    </tr>\n",
       "    <tr>\n",
       "      <th>Player</th>\n",
       "      <th></th>\n",
       "      <th></th>\n",
       "      <th></th>\n",
       "      <th></th>\n",
       "      <th></th>\n",
       "      <th></th>\n",
       "      <th></th>\n",
       "      <th></th>\n",
       "      <th></th>\n",
       "      <th></th>\n",
       "      <th></th>\n",
       "      <th></th>\n",
       "      <th></th>\n",
       "      <th></th>\n",
       "      <th></th>\n",
       "      <th></th>\n",
       "    </tr>\n",
       "  </thead>\n",
       "  <tbody>\n",
       "    <tr>\n",
       "      <th>Sergio</th>\n",
       "      <td>11</td>\n",
       "      <td>16</td>\n",
       "      <td>20</td>\n",
       "      <td>30</td>\n",
       "      <td>33</td>\n",
       "      <td>36</td>\n",
       "      <td>39</td>\n",
       "      <td>48</td>\n",
       "      <td>50</td>\n",
       "      <td>51</td>\n",
       "      <td>57</td>\n",
       "      <td>71</td>\n",
       "      <td>79</td>\n",
       "      <td>81</td>\n",
       "      <td>83</td>\n",
       "      <td>94</td>\n",
       "    </tr>\n",
       "    <tr>\n",
       "      <th>Lucía</th>\n",
       "      <td>13</td>\n",
       "      <td>15</td>\n",
       "      <td>19</td>\n",
       "      <td>24</td>\n",
       "      <td>28</td>\n",
       "      <td>34</td>\n",
       "      <td>37</td>\n",
       "      <td>42</td>\n",
       "      <td>45</td>\n",
       "      <td>50</td>\n",
       "      <td>62</td>\n",
       "      <td>74</td>\n",
       "      <td>77</td>\n",
       "      <td>80</td>\n",
       "      <td>83</td>\n",
       "      <td>85</td>\n",
       "    </tr>\n",
       "  </tbody>\n",
       "</table>\n",
       "</div>"
      ],
      "text/plain": [
       "        Hole 1  Hole 2  Hole 3  Hole 4  Hole 5  Hole 6  Hole 7  Hole 8  \\\n",
       "Player                                                                   \n",
       "Sergio      11      16      20      30      33      36      39      48   \n",
       "Lucía       13      15      19      24      28      34      37      42   \n",
       "\n",
       "        Hole 9  Hole 10  Hole 11  Hole 12  Hole 13  Hole 14  Hole 15  Hole 16  \n",
       "Player                                                                         \n",
       "Sergio      50       51       57       71       79       81       83       94  \n",
       "Lucía       45       50       62       74       77       80       83       85  "
      ]
     },
     "execution_count": 5,
     "metadata": {},
     "output_type": "execute_result"
    }
   ],
   "source": [
    "df_cumsum = df.cumsum(axis=1)\n",
    "df_cumsum"
   ]
  },
  {
   "cell_type": "code",
   "execution_count": 28,
   "metadata": {},
   "outputs": [
    {
     "data": {
      "image/png": "[encoded data removed]",
      "text/plain": [
       "<Figure size 1152x648 with 1 Axes>"
      ]
     },
     "metadata": {},
     "output_type": "display_data"
    }
   ],
   "source": [
    "fig, ax = plt.subplots(figsize=(16, 9))\n",
    "\n",
    "bar_width = .4\n",
    "index = np.arange(df.shape[1])\n",
    "xticks = index - ((df.index.size * bar_width) / 2)\n",
    "\n",
    "for i, player in enumerate(df.index):\n",
    "    ax.bar(\n",
    "        xticks + (i * bar_width),\n",
    "        df.loc[player],\n",
    "        width=bar_width,\n",
    "        label=player,\n",
    "        align='edge',\n",
    "        joinstyle='round'\n",
    "    )\n",
    "\n",
    "ax.set_xticks(index)\n",
    "ax.set_xticklabels(df.columns.tolist())\n",
    "ax.grid(color='gray', linestyle='-', linewidth=1, alpha=.3)\n",
    "ax.set_axisbelow(True)\n",
    "for spine in ['top', 'right']:\n",
    "    ax.spines[spine].set_visible(False)\n",
    "ax.legend()\n",
    "ax.set_ylabel('Strokes')\n",
    "ax.set_yticks(np.arange(15));"
   ]
  },
  {
   "cell_type": "markdown",
   "metadata": {},
   "source": [
    "## Plotting cumulative strokes"
   ]
  },
  {
   "cell_type": "code",
   "execution_count": 22,
   "metadata": {},
   "outputs": [
    {
     "data": {
      "image/png": "[encoded data removed]",
      "text/plain": [
       "<Figure size 1152x648 with 1 Axes>"
      ]
     },
     "metadata": {},
     "output_type": "display_data"
    }
   ],
   "source": [
    "fig, ax = plt.subplots(figsize=(16, 9))\n",
    "xticks = df_cumsum.columns.tolist()\n",
    "ax.grid(color='gray', linestyle='-', linewidth=1, alpha=.3)\n",
    "ax.set_axisbelow(True)\n",
    "for spine in ['top', 'right']:\n",
    "    ax.spines[spine].set_visible(False)\n",
    "for player in df_cumsum.index.tolist():\n",
    "    ax.plot(xticks, df_cumsum.loc[player], label=player, linewidth=3, marker='o')\n",
    "ax.legend()\n",
    "ax.set_ylabel('Strokes')\n",
    "ax.set_yticks(np.arange(0, 100, 5));"
   ]
  },
  {
   "cell_type": "markdown",
   "metadata": {},
   "source": [
    "## Calculating mean values"
   ]
  },
  {
   "cell_type": "markdown",
   "metadata": {},
   "source": [
    "### The mean number of strokes per player:"
   ]
  },
  {
   "cell_type": "code",
   "execution_count": 93,
   "metadata": {},
   "outputs": [
    {
     "data": {
      "text/plain": [
       "Player\n",
       "Sergio    5.8750\n",
       "Lucía     5.3125\n",
       "dtype: float64"
      ]
     },
     "execution_count": 93,
     "metadata": {},
     "output_type": "execute_result"
    }
   ],
   "source": [
    "df.mean(axis=1)"
   ]
  },
  {
   "cell_type": "markdown",
   "metadata": {},
   "source": [
    "### The mean number of strokes per hole:"
   ]
  },
  {
   "cell_type": "code",
   "execution_count": 23,
   "metadata": {
    "scrolled": true
   },
   "outputs": [
    {
     "data": {
      "image/png": "[encoded data removed]",
      "text/plain": [
       "<Figure size 1152x648 with 1 Axes>"
      ]
     },
     "metadata": {},
     "output_type": "display_data"
    }
   ],
   "source": [
    "df_meanperholes = df.mean()\n",
    "fig, ax = plt.subplots(figsize=(16, 9))\n",
    "ax.grid(color='gray', linestyle='-', linewidth=1, alpha=.3)\n",
    "ax.set_axisbelow(True)\n",
    "for spine in ['top', 'right']:\n",
    "    ax.spines[spine].set_visible(False)\n",
    "ax.set_ylabel('Mean number of strokes')\n",
    "ax.set_yticks(np.arange(0, 15));\n",
    "ax.bar(df_meanperholes.index, df_meanperholes);"
   ]
  },
  {
   "cell_type": "markdown",
   "metadata": {},
   "source": [
    "> **Hole 1** and **Hole 12** were tough to score"
   ]
  }
 ],
 "metadata": {
  "kernelspec": {
   "display_name": "Python 3",
   "language": "python",
   "name": "python3"
  },
  "language_info": {
   "codemirror_mode": {
    "name": "ipython",
    "version": 3
   },
   "file_extension": ".py",
   "mimetype": "text/x-python",
   "name": "python",
   "nbconvert_exporter": "python",
   "pygments_lexer": "ipython3",
   "version": "3.8.5"
  }
 },
 "nbformat": 4,
 "nbformat_minor": 2
}
